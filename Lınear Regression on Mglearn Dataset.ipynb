{
 "cells": [
  {
   "cell_type": "code",
   "execution_count": 21,
   "metadata": {},
   "outputs": [],
   "source": [
    "from sklearn.linear_model import LinearRegression\n",
    "from sklearn.model_selection import train_test_split\n",
    "import mglearn\n",
    "import pylab as plt\n",
    "\n"
   ]
  },
  {
   "cell_type": "code",
   "execution_count": 22,
   "metadata": {},
   "outputs": [],
   "source": [
    "X, y = mglearn.datasets.make_wave(n_samples=60)"
   ]
  },
  {
   "cell_type": "code",
   "execution_count": 23,
   "metadata": {},
   "outputs": [],
   "source": [
    "Xtrain, Xtest, ytrain, ytest = train_test_split(X, y, random_state=42)"
   ]
  },
  {
   "cell_type": "code",
   "execution_count": 24,
   "metadata": {},
   "outputs": [
    {
     "data": {
      "text/plain": [
       "45"
      ]
     },
     "execution_count": 24,
     "metadata": {},
     "output_type": "execute_result"
    }
   ],
   "source": [
    "len(Xtrain)"
   ]
  },
  {
   "cell_type": "code",
   "execution_count": 25,
   "metadata": {},
   "outputs": [
    {
     "data": {
      "text/plain": [
       "array([ 0.26134393,  0.29262945, -0.70117304, -1.7113156 , -1.32035898,\n",
       "        1.19812891, -0.74646948,  0.95081838, -1.03731593,  0.79900059,\n",
       "       -1.7240941 , -0.94575843,  0.97923163,  0.44971554, -0.72142625,\n",
       "       -1.11948406, -0.32691082, -0.38575444,  0.82614241,  1.39515571,\n",
       "       -0.83684971,  1.28948157, -0.32309571, -0.9139074 , -0.08137001,\n",
       "       -0.75150632,  0.50015912, -0.75240909,  0.13772889,  0.77613985,\n",
       "       -0.93416482,  0.38109799,  0.13368988, -1.58831973, -0.48647165,\n",
       "       -0.17851354, -1.25635546, -0.49131681,  0.96250584,  1.20319981,\n",
       "       -0.44713127, -1.27708305,  0.65823236,  0.25092544,  0.81263817])"
      ]
     },
     "execution_count": 25,
     "metadata": {},
     "output_type": "execute_result"
    }
   ],
   "source": [
    "ytrain"
   ]
  },
  {
   "cell_type": "code",
   "execution_count": 31,
   "metadata": {},
   "outputs": [
    {
     "name": "stdout",
     "output_type": "stream",
     "text": [
      "Coefficients: [0.39390555]\n",
      "Intercept   : -0.031804343026759746\n",
      "train score : 0.6700890315075756\n",
      "test score  : 0.65933685968637\n"
     ]
    }
   ],
   "source": [
    "lr = LinearRegression().fit(Xtrain, ytrain)\n",
    "\n",
    "print(\"Coefficients:\", lr.coef_)\n",
    "print(\"Intercept   :\", lr.intercept_)\n",
    "\n",
    "print(\"train score :\", lr.score(Xtrain, ytrain))\n",
    "print(\"test score  :\", lr.score(Xtest, ytest))"
   ]
  },
  {
   "cell_type": "code",
   "execution_count": 33,
   "metadata": {},
   "outputs": [
    {
     "data": {
      "image/png": "[encoded data removed]",
      "text/plain": [
       "<Figure size 432x288 with 1 Axes>"
      ]
     },
     "metadata": {},
     "output_type": "display_data"
    }
   ],
   "source": [
    "\n",
    "\n",
    "\n",
    "# plot the thing\n",
    "import numpy as np\n",
    "Xideal = np.linspace(-3.0, 3.0, 100)\n",
    "yideal = lr.coef_[0] * Xideal + lr.intercept_\n",
    "\n",
    "plt.figure()\n",
    "plt.gcf().set_facecolor('white')\n",
    "plt.plot(Xtrain, ytrain, 'bs', label=\"train\")\n",
    "plt.plot(Xtest, ytest, 'ro', label=\"test\")\n",
    "plt.plot(Xideal, yideal, 'g-', label=\"fitted\")\n",
    "plt.legend()\n",
    "plt.savefig('linear.png')\n",
    "plt.show()"
   ]
  },
  {
   "cell_type": "code",
   "execution_count": null,
   "metadata": {},
   "outputs": [],
   "source": []
  }
 ],
 "metadata": {
  "interpreter": {
   "hash": "688a0ad8cae2e7e1d36c3237f8c040063783e999e4874bfccd637fde6837675c"
  },
  "kernelspec": {
   "display_name": "Python 3.9.7 ('base')",
   "language": "python",
   "name": "python3"
  },
  "language_info": {
   "codemirror_mode": {
    "name": "ipython",
    "version": 3
   },
   "file_extension": ".py",
   "mimetype": "text/x-python",
   "name": "python",
   "nbconvert_exporter": "python",
   "pygments_lexer": "ipython3",
   "version": "3.9.7"
  },
  "orig_nbformat": 4
 },
 "nbformat": 4,
 "nbformat_minor": 2
}
